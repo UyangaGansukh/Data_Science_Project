{
 "cells": [
  {
   "cell_type": "code",
   "execution_count": 1,
   "metadata": {},
   "outputs": [],
   "source": [
    "import pandas as pd\n",
    "import numpy as np\n",
    "import re"
   ]
  },
  {
   "cell_type": "code",
   "execution_count": 2,
   "metadata": {},
   "outputs": [
    {
     "name": "stderr",
     "output_type": "stream",
     "text": [
      "/tmp/ipykernel_3443197/1156967300.py:1: DtypeWarning: Columns (2,5,51,52,53,54,55,56,57,58,59,60,61,62,63,64,65,66,67,68,69,70,71,72,73,74,75,76,77,78,79,80,81,82,83,84,85,86,87,88,89,90,91,92,93,94,95,96,97,98,99,100,101,102,103,104,105,106,107,108,109,110,111,112,113,114,115,116,117,118,119,120,121,122,123,124,125,126,127,128,129,130,131,132,133,134,135,136,137,138,139,140,141,142,143,144,145,146,147,148,149,150,151,152,153,154,155,156,157,158,159,160,161,162,163,164,165,166,167,168,169,170,171,172,173,174,175,176,177,178,179,180,181,182,183,184,185,186,187,188,189,190,191,192,193,194,195,196,197,198,199,200,201,202,203,204,205,206,207,208,209,210,211,212,213,214,215,216,217,218,219,220,221,222,223,224,225,226,227,228,229,230,231,232,233,234,235,236,237,238,239,240,241,242,243,244,245,246,247,248,249,250,251,252,253,254,255,256,257,258,259,260,261,262,263,264,265,266,267,268,269,270,271,272,273,274,275,276,277,278,279,280,281,282,283,284,285,286,287,288,289,290,291,292,293,305,313,320,322,323,340,342,343,360,362,363,369,371,372,391,400,402,403,409,411,412,420,422,423,429,431,432,440,442,443,449,451,452,460,462,463,469,471,472,480,482,483,489,491,492,500,502,503,509,511,512,520,522,523,529,531,532,540,541,542,548,550,551,555,556,559,561,562,563,564,568,570,571,572,573,575,576,579,581,582,583,584,588,590,591,592,593,595,596,599,601,602,603,604,608,610,611,612,613,615,616,619,620,621,622,623,627,629,630,631,632,634,635,638,640,641,642,643,647,649,650,651,652,654,655,658,659,660,661,662,666,668,669,670,671,673,674,677,678,679,680,681,685,687,688,689,690,692,693,696,697,698,699,700,704,705,706,707,708,710,711,714,715,716,717,718,722,723,724,725,726,728,729,732,734,735,736,737,741,743,744,745,746,748,749,752,753,754,755,756,760,762,763,764,765,767,768,771,772,773,774,775,779,780,781,782,783,785,786,789,790,791,792,793,797,798,799,800,801,803,804,807,808,809,810,811,815,816,818,819,822,823,824,825,826,830,831,832,833,834,836,837,840,841,845,846,848,849,852,853,857,858,861,863,864,865,874,875,876,877,878,879,880,881,884,885,886,887,889,890,891,892,893,894,895,896,897,898,899,900,901,903,909,918,919,920,921,922,923,933,934,935,936,938,939,940,941,942,943,944,948,951,952,953,954,955,958,959,960,961,962,965,966,967,969,971,972,973,974,975,976,983,984,985,986,987,988,989,990,991,992,994,999,1000,1001,1002,1003,1004,1005,1007,1008,1009,1010,1015,1017,1018,1020,1021,1022,1023,1026,1027,1028,1029,1030,1031,1033,1034,1035,1037,1041,1042,1045,1053,1054,1059,1060,1061,1062,1063,1064,1065,1066,1067,1068,1069,1073,1076,1077,1078,1079,1083,1085,1124,1128,1130,1131,1132,1133,1134,1135,1136,1137,1138,1139,1140,1141,1142,1143,1144,1145,1146,1147,1148,1149,1150,1151,1152,1153,1154,1155,1156,1157,1158,1159,1160,1161,1162,1163,1164,1165,1166,1167,1168,1169,1170,1171,1172,1173,1174,1175,1176,1177,1178,1179,1180,1181,1182,1183,1184,1185,1186,1187,1188,1189,1190,1191,1192,1193,1194,1195,1196,1197,1198,1200,1201,1202,1203,1204,1205,1206,1207,1208,1209,1210,1212,1213,1214,1216,1217,1218,1219,1220,1221,1222,1224,1225,1226,1228,1230,1232,1234,1235,1236,1238,1240,1242,1244,1245,1246,1248,1250,1252,1254,1256,1258,1260,1262,1264,1266,1268,1270,1272,1274,1276,1278,1280,1281,1287,1288,1289,1290,1291,1292,1294,1295,1296,1297,1345,1353,1361,1369,1377,1385,1393,1401,1409,1412,1413,1414,1417,1418,1420,1421,1427,1429,1430,1431,1432,1433,1434,1435,1436,1438,1439,1442,1443,1444,1445,1446,1447,1450,1451,1452,1453,1454,1455,1456,1458,1459,1460,1461,1465,1466,1471,1483,1495) have mixed types. Specify dtype option on import or set low_memory=False.\n",
      "  original_df = pd.read_csv('newyork_housing.csv')\n"
     ]
    }
   ],
   "source": [
    "original_df = pd.read_csv('newyork_housing.csv')"
   ]
  },
  {
   "cell_type": "code",
   "execution_count": 3,
   "metadata": {},
   "outputs": [
    {
     "data": {
      "text/plain": [
       "(75630, 1507)"
      ]
     },
     "execution_count": 3,
     "metadata": {},
     "output_type": "execute_result"
    }
   ],
   "source": [
    "original_df.shape"
   ]
  },
  {
   "cell_type": "code",
   "execution_count": 4,
   "metadata": {},
   "outputs": [],
   "source": [
    "df = original_df.copy()"
   ]
  },
  {
   "cell_type": "code",
   "execution_count": 5,
   "metadata": {},
   "outputs": [],
   "source": [
    "# remove all school features\n",
    "df = df[df.columns.drop(list(df.filter(regex='schools')))]\n",
    "\n",
    "# get school combined indices dataset\n",
    "schools_df = pd.read_csv('census_schools_dataset.csv').iloc[:, 1:]\n",
    "\n",
    "# concatanate school indices to original dataset\n",
    "df = pd.concat([df, schools_df], axis=1)"
   ]
  },
  {
   "cell_type": "code",
   "execution_count": 6,
   "metadata": {},
   "outputs": [],
   "source": [
    "# remove all photo url columns\n",
    "df = df[df.columns.drop(list(df.filter(regex='photos')))]\n",
    "\n",
    "# add number of photos attribute\n",
    "number_of_photos = np.sum(pd.isnull(original_df.filter(like='photos', axis=1).values)==False, axis=1)\n",
    "df['number_of_photos'] = number_of_photos"
   ]
  },
  {
   "cell_type": "code",
   "execution_count": 7,
   "metadata": {},
   "outputs": [],
   "source": [
    "df = df.dropna(subset=['price']).reset_index(drop=True)"
   ]
  },
  {
   "cell_type": "code",
   "execution_count": 8,
   "metadata": {},
   "outputs": [],
   "source": [
    "# remove all listings outside of NY\n",
    "rows_to_drop = np.where(df['address/state'].values != 'NY')[0]\n",
    "df = df.drop(df.index[rows_to_drop]).reset_index(drop=True)\n",
    "\n",
    "# remove all columns that look or found unrelevant\n",
    "list_of_columns_to_drop = [\n",
    "    'address/state',\n",
    "    'address/streetAddress',\n",
    "    'currency',\n",
    "    'resoFactsStats/parcelNumber',\n",
    "    'resoFactsStats/atAGlanceFacts/0/factValue',\n",
    "    'resoFactsStats/atAGlanceFacts/1/factValue',\n",
    "    'resoFactsStats/atAGlanceFacts/2/factValue',\n",
    "    'resoFactsStats/atAGlanceFacts/3/factValue',\n",
    "    'resoFactsStats/atAGlanceFacts/4/factValue',\n",
    "    'resoFactsStats/atAGlanceFacts/5/factValue',\n",
    "]\n",
    "'''\n",
    "    'schools/0/link',\n",
    "    'schools/0/name',\n",
    "    'schools/0/totalCount',\n",
    "    'schools/1/link',\n",
    "    'schools/1/name',\n",
    "    'schools/1/totalCount',\n",
    "    'schools/2/link',\n",
    "    'schools/2/name',\n",
    "    'schools/2/totalCount',\n",
    "    'schools/0/isAssigned',\n",
    "    'schools/2/type',\n",
    "    'schools/0/grades',\n",
    "    'schools/1/grades',\n",
    "    'schools/2/grades',\n",
    "'''\n",
    "\n",
    "for column_name in list_of_columns_to_drop:\n",
    "    df = df.drop(column_name, axis=1)"
   ]
  },
  {
   "cell_type": "code",
   "execution_count": 9,
   "metadata": {},
   "outputs": [],
   "source": [
    "# remove all columns with more than 33.3% missing values\n",
    "percent_missing_threshold = 100/3\n",
    "\n",
    "percent_missing = df.isnull().sum() * 100 / len(df)\n",
    "missing_value_df = pd.DataFrame({'column_name': df.columns,\n",
    "                                 'percent_missing': percent_missing})\n",
    "missing_value_df.sort_values('percent_missing', inplace=True)\n",
    "\n",
    "columns_to_drop = missing_value_df.loc[missing_value_df['percent_missing'] > percent_missing_threshold].values[:, 0].tolist()\n",
    "\n",
    "# Keep price history variables\n",
    "for x in ['event', 'postingIsRental', 'price', 'priceChangeRate', 'time']:\n",
    "    regex = re.compile(r'priceHistory/./' + x)\n",
    "    columns_to_drop = [i for i in columns_to_drop if not regex.search(i)]\n",
    "    \n",
    "columns_to_drop.remove('resoFactsStats/atAGlanceFacts/6/factValue') # Days on Zillow\n",
    "#print(columns_to_drop)\n",
    "df = df.drop(columns_to_drop, axis=1)"
   ]
  },
  {
   "cell_type": "code",
   "execution_count": 10,
   "metadata": {},
   "outputs": [],
   "source": [
    "# Collapse events\n",
    "#print(df['priceHistory/0/event'].unique())\n",
    "regex = re.compile(r'priceHistory/./event')\n",
    "event = [i for i in df.columns if regex.search(i)]\n",
    "event_name = list(df[event].apply(pd.value_counts).sum(axis = 1).index)\n",
    "for x in event_name:\n",
    "    df['number_of_' + x] = np.sum(df[event] == x, axis=1)\n",
    "#print(np.sum(df[event] == 'Sold', axis=1), df['number_of_Sold'])"
   ]
  },
  {
   "cell_type": "code",
   "execution_count": 11,
   "metadata": {},
   "outputs": [
    {
     "name": "stderr",
     "output_type": "stream",
     "text": [
      "/tmp/ipykernel_3443197/93139849.py:10: SettingWithCopyWarning: \n",
      "A value is trying to be set on a copy of a slice from a DataFrame\n",
      "\n",
      "See the caveats in the documentation: https://pandas.pydata.org/pandas-docs/stable/user_guide/indexing.html#returning-a-view-versus-a-copy\n",
      "  df['description'][i] = description\n"
     ]
    }
   ],
   "source": [
    "# add description length and exist attributes and remove description column\n",
    "\n",
    "description_lengths = np.zeros((df['description'].shape[0],), dtype=int)\n",
    "\n",
    "for i, description in enumerate(df['description'].values.tolist()):\n",
    "    if pd.isnull(df['description'][i]) == True:\n",
    "        continue\n",
    "    if '\\n' in description:\n",
    "        description = description.replace('\\n', ' ')\n",
    "        df['description'][i] = description\n",
    "        description_lengths[i] = len(description.split(' '))+1\n",
    "\n",
    "description_exists = description_lengths>0\n",
    "\n",
    "df['description_exists'] = description_exists\n",
    "df['description_lengths'] = description_lengths\n",
    "df.drop('description', axis=1, inplace=True)"
   ]
  },
  {
   "cell_type": "code",
   "execution_count": 12,
   "metadata": {},
   "outputs": [],
   "source": [
    "# remove all columns with unnecessary priceHistory information and keep only priceChangeRate\n",
    "\n",
    "df = df[df.columns.drop(list(df.filter(regex='priceHistory')))]\n",
    "df['priceChangeRate'] = original_df['priceHistory/0/priceChangeRate']"
   ]
  },
  {
   "cell_type": "code",
   "execution_count": 13,
   "metadata": {},
   "outputs": [
    {
     "name": "stdout",
     "output_type": "stream",
     "text": [
      "0         12.0\n",
      "1        176.0\n",
      "2        214.0\n",
      "3        120.0\n",
      "4         62.0\n",
      "         ...  \n",
      "75563      NaN\n",
      "75564      NaN\n",
      "75565      NaN\n",
      "75566      NaN\n",
      "75567      NaN\n",
      "Name: days_on_Zillow, Length: 75568, dtype: float64 0         12 Days\n",
      "1        176 Days\n",
      "2        214 Days\n",
      "3        120 Days\n",
      "4         62 Days\n",
      "           ...   \n",
      "75563         NaN\n",
      "75564         NaN\n",
      "75565         NaN\n",
      "75566         NaN\n",
      "75567         NaN\n",
      "Name: resoFactsStats/atAGlanceFacts/6/factValue, Length: 75568, dtype: object\n"
     ]
    }
   ],
   "source": [
    "# Numeric days on Zillow\n",
    "#df['days_on_Zillow'] = df['resoFactsStats/atAGlanceFacts/6/factValue'].str.extract('(\\d+)').fillna(0).astype(int)\n",
    "df['days_on_Zillow'] = df['resoFactsStats/atAGlanceFacts/6/factValue'].str.extract('(\\d+)')\n",
    "df['days_on_Zillow'] = pd.to_numeric(df['days_on_Zillow'])\n",
    "print(df['days_on_Zillow'], df['resoFactsStats/atAGlanceFacts/6/factValue'])\n",
    "df = df.drop('resoFactsStats/atAGlanceFacts/6/factValue', axis=1)"
   ]
  },
  {
   "cell_type": "code",
   "execution_count": 14,
   "metadata": {},
   "outputs": [],
   "source": [
    "for i, column_name in enumerate(df.columns[::-1]):\n",
    "    current_column_values = df[column_name].values\n",
    "    values, counts = np.unique(current_column_values.astype(str), return_counts=True)\n",
    "    if np.max(counts) > 0.975*df.shape[0]:\n",
    "        #print(column_name, counts)\n",
    "        df = df.drop(column_name, axis=1)\n",
    "    #else:\n",
    "        #print(column_name, np.max(counts)/df.shape[0])"
   ]
  },
  {
   "cell_type": "code",
   "execution_count": 15,
   "metadata": {},
   "outputs": [],
   "source": [
    "url_exists = np.zeros((df['url'].shape[0],), dtype=int)\n",
    "\n",
    "for i, url in enumerate(df['url'].values.tolist()):\n",
    "    if pd.isnull(df['url'][i]) == True:\n",
    "        continue\n",
    "    else:\n",
    "        url_exists[i] = 1\n",
    "\n",
    "df['url_exists'] = url_exists\n",
    "df.drop('url', axis=1, inplace=True)"
   ]
  },
  {
   "cell_type": "code",
   "execution_count": 16,
   "metadata": {},
   "outputs": [
    {
     "name": "stdout",
     "output_type": "stream",
     "text": [
      "resoFactsStats/lotSize\n"
     ]
    },
    {
     "name": "stderr",
     "output_type": "stream",
     "text": [
      "/tmp/ipykernel_3443197/177121190.py:6: SettingWithCopyWarning: \n",
      "A value is trying to be set on a copy of a slice from a DataFrame\n",
      "\n",
      "See the caveats in the documentation: https://pandas.pydata.org/pandas-docs/stable/user_guide/indexing.html#returning-a-view-versus-a-copy\n",
      "  df[column_name][Acres_rows] = df[column_name][Acres_rows].astype(str).str.replace(',','', regex=True).replace(' Acres','', regex=True).astype(float)*43560\n",
      "/tmp/ipykernel_3443197/177121190.py:9: SettingWithCopyWarning: \n",
      "A value is trying to be set on a copy of a slice from a DataFrame\n",
      "\n",
      "See the caveats in the documentation: https://pandas.pydata.org/pandas-docs/stable/user_guide/indexing.html#returning-a-view-versus-a-copy\n",
      "  df[column_name][sqft_rows] = df[column_name][sqft_rows].astype(str).str.replace(',', '', regex=True).replace(' sqft', '', regex=True).astype(float)\n"
     ]
    },
    {
     "name": "stdout",
     "output_type": "stream",
     "text": [
      "resoFactsStats/livingArea\n"
     ]
    },
    {
     "name": "stderr",
     "output_type": "stream",
     "text": [
      "/tmp/ipykernel_3443197/177121190.py:6: SettingWithCopyWarning: \n",
      "A value is trying to be set on a copy of a slice from a DataFrame\n",
      "\n",
      "See the caveats in the documentation: https://pandas.pydata.org/pandas-docs/stable/user_guide/indexing.html#returning-a-view-versus-a-copy\n",
      "  df[column_name][Acres_rows] = df[column_name][Acres_rows].astype(str).str.replace(',','', regex=True).replace(' Acres','', regex=True).astype(float)*43560\n",
      "/tmp/ipykernel_3443197/177121190.py:9: SettingWithCopyWarning: \n",
      "A value is trying to be set on a copy of a slice from a DataFrame\n",
      "\n",
      "See the caveats in the documentation: https://pandas.pydata.org/pandas-docs/stable/user_guide/indexing.html#returning-a-view-versus-a-copy\n",
      "  df[column_name][sqft_rows] = df[column_name][sqft_rows].astype(str).str.replace(',', '', regex=True).replace(' sqft', '', regex=True).astype(float)\n"
     ]
    }
   ],
   "source": [
    "#all columns with sqft or acres - acres to sqft multiply the acre value by 43560\n",
    "for i, column_name in enumerate(df.columns[::-1]):\n",
    "    if (df[column_name].astype(str).str.contains(' Acres').any() or df[column_name].astype(str).str.contains(' sqft').any()) and column_name != 'description':\n",
    "        print(column_name)\n",
    "        Acres_rows = np.where(df[column_name].astype(str).str.contains(' Acres'))[0]\n",
    "        df[column_name][Acres_rows] = df[column_name][Acres_rows].astype(str).str.replace(',','', regex=True).replace(' Acres','', regex=True).astype(float)*43560\n",
    "\n",
    "        sqft_rows = np.where(df[column_name].astype(str).str.contains(' sqft'))[0]\n",
    "        df[column_name][sqft_rows] = df[column_name][sqft_rows].astype(str).str.replace(',', '', regex=True).replace(' sqft', '', regex=True).astype(float)"
   ]
  },
  {
   "cell_type": "code",
   "execution_count": 17,
   "metadata": {},
   "outputs": [
    {
     "name": "stderr",
     "output_type": "stream",
     "text": [
      "/tmp/ipykernel_3443197/873174732.py:5: SettingWithCopyWarning: \n",
      "A value is trying to be set on a copy of a slice from a DataFrame\n",
      "\n",
      "See the caveats in the documentation: https://pandas.pydata.org/pandas-docs/stable/user_guide/indexing.html#returning-a-view-versus-a-copy\n",
      "  df[column_name][np.where(df[column_name]==False)[0]] = 0\n",
      "/tmp/ipykernel_3443197/873174732.py:6: SettingWithCopyWarning: \n",
      "A value is trying to be set on a copy of a slice from a DataFrame\n",
      "\n",
      "See the caveats in the documentation: https://pandas.pydata.org/pandas-docs/stable/user_guide/indexing.html#returning-a-view-versus-a-copy\n",
      "  df[column_name][np.where(df[column_name]==True)[0]] = 1\n",
      "/tmp/ipykernel_3443197/873174732.py:5: SettingWithCopyWarning: \n",
      "A value is trying to be set on a copy of a slice from a DataFrame\n",
      "\n",
      "See the caveats in the documentation: https://pandas.pydata.org/pandas-docs/stable/user_guide/indexing.html#returning-a-view-versus-a-copy\n",
      "  df[column_name][np.where(df[column_name]==False)[0]] = 0\n",
      "/tmp/ipykernel_3443197/873174732.py:5: SettingWithCopyWarning: \n",
      "A value is trying to be set on a copy of a slice from a DataFrame\n",
      "\n",
      "See the caveats in the documentation: https://pandas.pydata.org/pandas-docs/stable/user_guide/indexing.html#returning-a-view-versus-a-copy\n",
      "  df[column_name][np.where(df[column_name]==False)[0]] = 0\n",
      "/tmp/ipykernel_3443197/873174732.py:6: SettingWithCopyWarning: \n",
      "A value is trying to be set on a copy of a slice from a DataFrame\n",
      "\n",
      "See the caveats in the documentation: https://pandas.pydata.org/pandas-docs/stable/user_guide/indexing.html#returning-a-view-versus-a-copy\n",
      "  df[column_name][np.where(df[column_name]==True)[0]] = 1\n",
      "/tmp/ipykernel_3443197/873174732.py:5: SettingWithCopyWarning: \n",
      "A value is trying to be set on a copy of a slice from a DataFrame\n",
      "\n",
      "See the caveats in the documentation: https://pandas.pydata.org/pandas-docs/stable/user_guide/indexing.html#returning-a-view-versus-a-copy\n",
      "  df[column_name][np.where(df[column_name]==False)[0]] = 0\n",
      "/tmp/ipykernel_3443197/873174732.py:6: SettingWithCopyWarning: \n",
      "A value is trying to be set on a copy of a slice from a DataFrame\n",
      "\n",
      "See the caveats in the documentation: https://pandas.pydata.org/pandas-docs/stable/user_guide/indexing.html#returning-a-view-versus-a-copy\n",
      "  df[column_name][np.where(df[column_name]==True)[0]] = 1\n",
      "/tmp/ipykernel_3443197/873174732.py:5: SettingWithCopyWarning: \n",
      "A value is trying to be set on a copy of a slice from a DataFrame\n",
      "\n",
      "See the caveats in the documentation: https://pandas.pydata.org/pandas-docs/stable/user_guide/indexing.html#returning-a-view-versus-a-copy\n",
      "  df[column_name][np.where(df[column_name]==False)[0]] = 0\n",
      "/tmp/ipykernel_3443197/873174732.py:5: SettingWithCopyWarning: \n",
      "A value is trying to be set on a copy of a slice from a DataFrame\n",
      "\n",
      "See the caveats in the documentation: https://pandas.pydata.org/pandas-docs/stable/user_guide/indexing.html#returning-a-view-versus-a-copy\n",
      "  df[column_name][np.where(df[column_name]==False)[0]] = 0\n",
      "/tmp/ipykernel_3443197/873174732.py:6: SettingWithCopyWarning: \n",
      "A value is trying to be set on a copy of a slice from a DataFrame\n",
      "\n",
      "See the caveats in the documentation: https://pandas.pydata.org/pandas-docs/stable/user_guide/indexing.html#returning-a-view-versus-a-copy\n",
      "  df[column_name][np.where(df[column_name]==True)[0]] = 1\n",
      "/tmp/ipykernel_3443197/873174732.py:5: SettingWithCopyWarning: \n",
      "A value is trying to be set on a copy of a slice from a DataFrame\n",
      "\n",
      "See the caveats in the documentation: https://pandas.pydata.org/pandas-docs/stable/user_guide/indexing.html#returning-a-view-versus-a-copy\n",
      "  df[column_name][np.where(df[column_name]==False)[0]] = 0\n",
      "/tmp/ipykernel_3443197/873174732.py:5: SettingWithCopyWarning: \n",
      "A value is trying to be set on a copy of a slice from a DataFrame\n",
      "\n",
      "See the caveats in the documentation: https://pandas.pydata.org/pandas-docs/stable/user_guide/indexing.html#returning-a-view-versus-a-copy\n",
      "  df[column_name][np.where(df[column_name]==False)[0]] = 0\n",
      "/tmp/ipykernel_3443197/873174732.py:6: SettingWithCopyWarning: \n",
      "A value is trying to be set on a copy of a slice from a DataFrame\n",
      "\n",
      "See the caveats in the documentation: https://pandas.pydata.org/pandas-docs/stable/user_guide/indexing.html#returning-a-view-versus-a-copy\n",
      "  df[column_name][np.where(df[column_name]==True)[0]] = 1\n",
      "/tmp/ipykernel_3443197/873174732.py:5: SettingWithCopyWarning: \n",
      "A value is trying to be set on a copy of a slice from a DataFrame\n",
      "\n",
      "See the caveats in the documentation: https://pandas.pydata.org/pandas-docs/stable/user_guide/indexing.html#returning-a-view-versus-a-copy\n",
      "  df[column_name][np.where(df[column_name]==False)[0]] = 0\n",
      "/tmp/ipykernel_3443197/873174732.py:5: SettingWithCopyWarning: \n",
      "A value is trying to be set on a copy of a slice from a DataFrame\n",
      "\n",
      "See the caveats in the documentation: https://pandas.pydata.org/pandas-docs/stable/user_guide/indexing.html#returning-a-view-versus-a-copy\n",
      "  df[column_name][np.where(df[column_name]==False)[0]] = 0\n"
     ]
    }
   ],
   "source": [
    "bool_to_categories = []\n",
    "for i, column_name in enumerate(df.columns[::-1]):\n",
    "    if np.sum(np.where(df[column_name]==False)[0].size + np.where(df[column_name]==True)[0].size + np.where(df[column_name].values.astype('str')=='nan')[0].size)==df.shape[0]:\n",
    "        bool_to_categories.append(column_name)\n",
    "        df[column_name][np.where(df[column_name]==False)[0]] = 0\n",
    "        df[column_name][np.where(df[column_name]==True)[0]] = 1"
   ]
  },
  {
   "cell_type": "code",
   "execution_count": 18,
   "metadata": {},
   "outputs": [
    {
     "name": "stderr",
     "output_type": "stream",
     "text": [
      "/tmp/ipykernel_3443197/3166575509.py:32: SettingWithCopyWarning: \n",
      "A value is trying to be set on a copy of a slice from a DataFrame\n",
      "\n",
      "See the caveats in the documentation: https://pandas.pydata.org/pandas-docs/stable/user_guide/indexing.html#returning-a-view-versus-a-copy\n",
      "  df[column_name][rows_to_factorize] = pd.factorize(df[column_name][rows_to_factorize])[0]\n",
      "/tmp/ipykernel_3443197/3166575509.py:32: SettingWithCopyWarning: \n",
      "A value is trying to be set on a copy of a slice from a DataFrame\n",
      "\n",
      "See the caveats in the documentation: https://pandas.pydata.org/pandas-docs/stable/user_guide/indexing.html#returning-a-view-versus-a-copy\n",
      "  df[column_name][rows_to_factorize] = pd.factorize(df[column_name][rows_to_factorize])[0]\n",
      "/tmp/ipykernel_3443197/3166575509.py:32: SettingWithCopyWarning: \n",
      "A value is trying to be set on a copy of a slice from a DataFrame\n",
      "\n",
      "See the caveats in the documentation: https://pandas.pydata.org/pandas-docs/stable/user_guide/indexing.html#returning-a-view-versus-a-copy\n",
      "  df[column_name][rows_to_factorize] = pd.factorize(df[column_name][rows_to_factorize])[0]\n",
      "/tmp/ipykernel_3443197/3166575509.py:32: SettingWithCopyWarning: \n",
      "A value is trying to be set on a copy of a slice from a DataFrame\n",
      "\n",
      "See the caveats in the documentation: https://pandas.pydata.org/pandas-docs/stable/user_guide/indexing.html#returning-a-view-versus-a-copy\n",
      "  df[column_name][rows_to_factorize] = pd.factorize(df[column_name][rows_to_factorize])[0]\n"
     ]
    }
   ],
   "source": [
    "string_to_categories = [\n",
    "    'address/city',\n",
    "    'homeStatus',\n",
    "    'resoFactsStats/atAGlanceFacts/0/factValue',\n",
    "    'resoFactsStats/atAGlanceFacts/5/factLabel',\n",
    "    'resoFactsStats/cityRegion',\n",
    "    'resoFactsStats/homeType',\n",
    "    'resoFactsStats/parkingFeatures/0',\n",
    "]\n",
    "\n",
    "'''\n",
    "    'schools/0/level',\n",
    "    'schools/1/level',\n",
    "    'schools/2/level',\n",
    "    'schools/0/grades',\n",
    "    'schools/1/grades',\n",
    "    'schools/2/grades'\n",
    "'''\n",
    "\n",
    "\n",
    "# factorize all string columns\n",
    "for i, column_name in enumerate(df.columns[::-1]):\n",
    "    if column_name in string_to_categories:\n",
    "        #print(column_name, np.unique(df[column_name].values.astype('str')))\n",
    "        if '/level' in column_name:\n",
    "            df[column_name][np.where(df[column_name]=='Primary')[0]] = 0\n",
    "            df[column_name][np.where(df[column_name]=='Elementary')[0]] = 1\n",
    "            df[column_name][np.where(df[column_name]=='Middle')[0]] = 2\n",
    "            df[column_name][np.where(df[column_name]=='High')[0]] = 3\n",
    "        else:\n",
    "            rows_to_factorize = np.where(df[column_name].isnull()==False)[0]\n",
    "            df[column_name][rows_to_factorize] = pd.factorize(df[column_name][rows_to_factorize])[0]\n",
    "        #print(df[column_name][rows_to_factorize])\n",
    "        #print(pd.factorize(df[column_name][rows_to_factorize])[0])\n"
   ]
  },
  {
   "cell_type": "code",
   "execution_count": 19,
   "metadata": {},
   "outputs": [],
   "source": [
    "df = df.loc[(df['homeStatus'] <= 2)]\n",
    "df = df.loc[(df['price'] > 100)]"
   ]
  },
  {
   "cell_type": "code",
   "execution_count": 20,
   "metadata": {},
   "outputs": [],
   "source": [
    "df.to_csv('processed_dataset.csv')"
   ]
  }
 ],
 "metadata": {
  "kernelspec": {
   "display_name": "Python 3 (ipykernel)",
   "language": "python",
   "name": "python3"
  },
  "language_info": {
   "codemirror_mode": {
    "name": "ipython",
    "version": 3
   },
   "file_extension": ".py",
   "mimetype": "text/x-python",
   "name": "python",
   "nbconvert_exporter": "python",
   "pygments_lexer": "ipython3",
   "version": "3.8.16"
  },
  "vscode": {
   "interpreter": {
    "hash": "0163732830db25dc078d3027c756dfdbec9bc22e784d48b7fd5f8168fb337cbd"
   }
  }
 },
 "nbformat": 4,
 "nbformat_minor": 4
}
